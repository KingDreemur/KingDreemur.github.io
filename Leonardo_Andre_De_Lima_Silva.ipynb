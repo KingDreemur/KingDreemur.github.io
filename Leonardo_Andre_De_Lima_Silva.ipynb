{
  "nbformat": 4,
  "nbformat_minor": 0,
  "metadata": {
    "colab": {
      "provenance": [],
      "authorship_tag": "ABX9TyM2yO4Dy4DldvLsfWc5RRqy",
      "include_colab_link": true
    },
    "kernelspec": {
      "name": "python3",
      "display_name": "Python 3"
    },
    "language_info": {
      "name": "python"
    }
  },
  "cells": [
    {
      "cell_type": "markdown",
      "metadata": {
        "id": "view-in-github",
        "colab_type": "text"
      },
      "source": [
        "<a href=\"https://colab.research.google.com/github/KingDreemur/KingDreemur.github.io/blob/master/Leonardo_Andre_De_Lima_Silva.ipynb\" target=\"_parent\"><img src=\"https://colab.research.google.com/assets/colab-badge.svg\" alt=\"Open In Colab\"/></a>"
      ]
    },
    {
      "cell_type": "code",
      "source": [
        "#numero = 1.42521324\n",
        "#print(round(numero, 2))\n",
        "#1.42\n",
        "\n",
        "#input()\n",
        "#print()\n",
        "\n",
        "#if algo:\n",
        "#    aqui funciona\n",
        "#Aqui não funciona\n",
        "\n",
        "\n",
        "\n",
        "\n",
        "#print(\"o numero\" round(numero, 2))\n",
        "#o numero 1.42\n",
        "#print( round(\"o numero\", numero, 2))\n",
        "#Erro\n",
        "\n",
        "#como eu crio uma função\n",
        "#def {Definindo uma função}\n",
        "#def funcao_que_soma_dois_numeros(numero_a, numero_b):\n",
        "  #soma_dos_numeros = numero_a + numero_b\n",
        "  #return soma_dos_numeros\n",
        "\n",
        "#funcao_que_soma_dois_numeros(3,5)\n",
        "\n",
        "\n",
        "#definir uma funcao que recebe como parametro uma string que é o nome de uma pessoa e tambem sua funcao e imprima uma saudacao com o nome e a funcao contatenadas'"
      ],
      "metadata": {
        "id": "QbZNB7eao_wq"
      },
      "execution_count": null,
      "outputs": []
    },
    {
      "cell_type": "code",
      "execution_count": 1,
      "metadata": {
        "colab": {
          "base_uri": "https://localhost:8080/"
        },
        "id": "7w9fIu4vjTmR",
        "outputId": "f4196fbc-7bbe-4fc6-aaa9-b650fab4c10a"
      },
      "outputs": [
        {
          "output_type": "stream",
          "name": "stdout",
          "text": [
            "Hello World\n"
          ]
        }
      ],
      "source": [
        "#Problema 1\n",
        "\n",
        "print(\"Hello World\")"
      ]
    },
    {
      "cell_type": "code",
      "source": [
        "#Problema 2\n",
        "\n",
        "valor1 = int(input(\"Digite um Numero, sendo o Valor A: \"))\n",
        "\n",
        "valor2 = int(input(\"Digite um Numero, sendo o Valor B: \"))\n",
        "\n",
        "X = valor1+valor2\n",
        "\n",
        "print(\"X=\", X)"
      ],
      "metadata": {
        "colab": {
          "base_uri": "https://localhost:8080/"
        },
        "id": "Khrv7lbWjwDO",
        "outputId": "3dfc3e13-cb3a-4531-d3dd-b17748c0ffce"
      },
      "execution_count": 4,
      "outputs": [
        {
          "output_type": "stream",
          "name": "stdout",
          "text": [
            "Digite um Numero, sendo o Valor A: 6\n",
            "Digite um Numero, sendo o Valor B: 7\n",
            "X= 13\n"
          ]
        }
      ]
    },
    {
      "cell_type": "code",
      "source": [
        "#Problema 3\n",
        "\n",
        "raios_funde = float(input(\"Digite o Valor do Raio: \"))\n",
        "pi = 3.14159\n",
        "\n",
        "area = pi * raios_funde ** 2\n",
        "\n",
        "print(\"A=\", round(area, 4))"
      ],
      "metadata": {
        "colab": {
          "base_uri": "https://localhost:8080/"
        },
        "id": "1xdhr5x9nMB0",
        "outputId": "37a903d8-b0c8-4a12-af65-832203cc77a6"
      },
      "execution_count": 17,
      "outputs": [
        {
          "output_type": "stream",
          "name": "stdout",
          "text": [
            "Digite o Valor do Raio: 212\n",
            "A= 141195.621\n"
          ]
        }
      ]
    },
    {
      "cell_type": "code",
      "source": [
        "#Problema 4\n",
        "valor1 = int(input(\"ValorA:\"))\n",
        "valor2 = int(input(\"ValorB:\"))\n",
        "SOMA = valor1+valor2\n",
        "\n",
        "print(\"SOMA:\",SOMA)"
      ],
      "metadata": {
        "colab": {
          "base_uri": "https://localhost:8080/"
        },
        "id": "5XS7ia_hpi1C",
        "outputId": "a481044e-a09a-4cad-a411-db9da5ef9d81"
      },
      "execution_count": 15,
      "outputs": [
        {
          "output_type": "stream",
          "name": "stdout",
          "text": [
            "ValorA5\n",
            "ValorB7\n",
            "SOMA: 12\n"
          ]
        }
      ]
    },
    {
      "cell_type": "code",
      "source": [
        "#Problema 5\n",
        "\n",
        "#Cálculo do Produto, Produto é uma Multiplicação\n",
        "\n",
        "valor1 = int(input(\"Digite o valor primário do seu Produto:\"))\n",
        "valor2 = int(input(\"Digite o valor secundário do seu Produto:\"))\n",
        "\n",
        "PROD = valor1*valor2\n",
        "\n",
        "print(\"O Seu Produto, é:\", PROD)"
      ],
      "metadata": {
        "colab": {
          "base_uri": "https://localhost:8080/"
        },
        "id": "X0_8--OBt597",
        "outputId": "4a7266ff-d984-409e-8bd2-008a004d6a2e"
      },
      "execution_count": 16,
      "outputs": [
        {
          "output_type": "stream",
          "name": "stdout",
          "text": [
            "Digite o valor primário do seu Produto7\n",
            "Digite o valor secundário do seu Produto5\n",
            "O Seu Produto, é: 35\n"
          ]
        }
      ]
    },
    {
      "cell_type": "code",
      "source": [
        "#Problema 6\n",
        "\n",
        "nota1 = float(input(\"Digite sua primeira nota:\"))\n",
        "nota2 = float(input(\"Digite sua segunda nota:\"))\n",
        "\n",
        "pesoA = 3.5\n",
        "pesoB = 7.5\n",
        "\n",
        "media = (nota1*pesoA + nota2*pesoB) / (pesoA+pesoB)\n",
        "if(nota1<10.0 and nota1>0 and nota2<10.0 and nota2>0):\n",
        "   print(\"MEDIA:\", round(media, 5))\n",
        "else:\n",
        "  print(\"Nota Acima do Valor\")\n",
        "\n",
        "\n",
        "\n",
        "\n"
      ],
      "metadata": {
        "colab": {
          "base_uri": "https://localhost:8080/"
        },
        "id": "JiQqOCyGvZMh",
        "outputId": "69bb11e4-4c30-4da9-b38e-b35c485327c5"
      },
      "execution_count": 30,
      "outputs": [
        {
          "output_type": "stream",
          "name": "stdout",
          "text": [
            "Digite sua primeira nota:11\n",
            "Digite sua segunda nota:11\n",
            "Nota Acima do Valor\n"
          ]
        }
      ]
    },
    {
      "cell_type": "code",
      "source": [
        "#Problema 7\n",
        "valor1 = float(input(\"Declare o valor 1:\"))\n",
        "valor2 = float(input(\"Declare o valor 2:\"))\n",
        "valor3 = float(input(\"Declare o valor 3:\"))\n",
        "\n",
        "peso1 = 2\n",
        "peso2 = 3\n",
        "peso3 = 5\n",
        "\n",
        "media = (valor1*peso1 + valor2*peso2 + valor3*peso3) / (peso1+peso2+peso3)\n",
        "\n",
        "if(valor1<10.0 and valor1>0 and valor2<10.0 and valor2>0 and valor3<10.0 and valor3>0):\n",
        "  print(\"MEDIA:\", round(media, 1))\n",
        "else:\n",
        "  print(\"Nota Acima do Valor\")"
      ],
      "metadata": {
        "colab": {
          "base_uri": "https://localhost:8080/"
        },
        "id": "lWTbkSPK0Xlo",
        "outputId": "1f705038-97e7-4fbf-dec2-6c5b213275b2"
      },
      "execution_count": 33,
      "outputs": [
        {
          "output_type": "stream",
          "name": "stdout",
          "text": [
            "Declare o valor 1:5\n",
            "Declare o valor 2:8\n",
            "Declare o valor 3:7\n",
            "MEDIA: 6.9\n"
          ]
        }
      ]
    },
    {
      "cell_type": "code",
      "source": [
        "#Problema 8\n",
        "valor1 = int(input(\"Declare o valor 1:\"))\n",
        "valor2 = int(input(\"Declare o valor 2:\"))\n",
        "valor3 = int(input(\"Declare o valor 3:\"))\n",
        "valor4 = int(input(\"Declare o valor 4:\"))\n",
        "\n",
        "diferenca = (valor1*valor2 - valor3*valor4)\n",
        "\n",
        "print(\"DIFERENCA:\", diferenca)"
      ],
      "metadata": {
        "colab": {
          "base_uri": "https://localhost:8080/"
        },
        "id": "ffeYraPn5q7q",
        "outputId": "ad966441-8cbe-4f8d-f0f2-afbf0d426561"
      },
      "execution_count": 32,
      "outputs": [
        {
          "output_type": "stream",
          "name": "stdout",
          "text": [
            "Declare o valor11\n",
            "Declare o valor24\n",
            "Declare o valor38\n",
            "Declare o valor44\n",
            "DIFERENCA: -28\n"
          ]
        }
      ]
    },
    {
      "cell_type": "code",
      "source": [
        "#Problema 9\n",
        "\n",
        "num_funcionario = int(input(\"Digite seu número:\"))\n",
        "num_horas_trab = int(input(\"Quantas horas trabalha?\"))\n",
        "pagamento_hora = float(1500)\n",
        "\n",
        "salario = num_horas_trab*pagamento_hora\n",
        "\n",
        "print(\"Seu numéro de funconário é:\", num_funcionario)\n",
        "print(\"E seu salário de: $\", salario)"
      ],
      "metadata": {
        "colab": {
          "base_uri": "https://localhost:8080/"
        },
        "id": "zv5LlNec6P1n",
        "outputId": "d8858866-8d50-4bd7-cb5e-4b1fd830df77"
      },
      "execution_count": 35,
      "outputs": [
        {
          "output_type": "stream",
          "name": "stdout",
          "text": [
            "Digite seu número:5569\n",
            "Quantas horas trabalha?4\n",
            "Seu numéro de funconário é: 5569\n",
            "E seu salário de: $ 6000.0\n"
          ]
        }
      ]
    },
    {
      "cell_type": "code",
      "source": [
        "#Problema 10\n",
        "\n",
        "string_1 = \"Roberto Casemiro\"\n",
        "salario_fixo = float(2500)\n",
        "valor_venda = float(30)\n",
        "total_vendas = float(input(\"Qual foi seu total de vendas? \"))\n",
        "\n",
        "vendas_capitalizadas = (total_vendas*valor_venda) * 0.15\n",
        "\n",
        "salario = salario_fixo+vendas_capitalizadas\n",
        "\n",
        "print(string_1, \"ira ganhar um total de:\", salario)\n",
        "\n",
        "\n",
        "\n",
        "\n",
        "\n"
      ],
      "metadata": {
        "colab": {
          "base_uri": "https://localhost:8080/"
        },
        "id": "-JXCd3kK_vb3",
        "outputId": "4c3eef36-f45c-4bc1-a138-9e6205290e8a"
      },
      "execution_count": 40,
      "outputs": [
        {
          "output_type": "stream",
          "name": "stdout",
          "text": [
            "Qual foi seu total de vendas? 5\n",
            "Roberto Casemiro ira ganhar um total de: 2522.5\n"
          ]
        }
      ]
    }
  ]
}